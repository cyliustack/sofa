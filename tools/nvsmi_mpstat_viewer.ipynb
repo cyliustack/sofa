{
 "cells": [
  {
   "cell_type": "code",
   "execution_count": null,
   "metadata": {},
   "outputs": [],
   "source": [
    "import pandas as pd\n",
    "import numpy as np\n",
    "import matplotlib.pyplot as plt\n",
    "%matplotlib inline  \n",
    "df = pd.read_csv('./nvsmi_records.csv')\n"
   ]
  },
  {
   "cell_type": "code",
   "execution_count": null,
   "metadata": {},
   "outputs": [],
   "source": [
    "f_vmstat = open('./vmstat_records.txt')\n",
    "lines = f_vmstat.readlines()\n",
    "usr = []\n",
    "sys = []\n",
    "iow = []\n",
    "timestamps = []\n",
    "i=0\n",
    "for line in lines:\n",
    "    if line.find('procs') != -1 or line.find('UTC') != -1:\n",
    "        continue\n",
    "    i = i + 1\n",
    "    timestamps.append(i)\n",
    "    usr.append(int(line.split()[12]))\n",
    "    sys.append(int(line.split()[13]))\n",
    "    iow.append(int(line.split()[15]))"
   ]
  },
  {
   "cell_type": "code",
   "execution_count": null,
   "metadata": {},
   "outputs": [],
   "source": [
    "t = []\n",
    "sm = []\n",
    "mm = []\n",
    "i = 0\n",
    "gpus = [0,1,2,3,4,5,6,7]\n",
    "\n",
    "for row in df.values:\n",
    "    if row[2] == 0:\n",
    "        i = i + 1\n",
    "    if row[2] in gpus:\n",
    "        if i < 4000:\n",
    "            t.append(i)\n",
    "            sm.append(int(row[3].split()[0]))\n",
    "            mm.append(int(row[4].split()[0])) "
   ]
  },
  {
   "cell_type": "code",
   "execution_count": null,
   "metadata": {},
   "outputs": [],
   "source": [
    "fig = plt.figure()\n",
    "fig.suptitle('SM/MM Util. Over Time (s)')\n",
    "plt.plot(t, sm, '--', linewidth=1, markersize=2, label='GPU-SM' )\n",
    "plt.plot(t, mm, '--', linewidth=1, markersize=2, label='GPU-MM' )\n",
    "plt.plot(timestamps, usr, '--', linewidth=1, markersize=2, label='CPU-USR' )\n",
    "plt.plot(timestamps, sys, '--', linewidth=1, markersize=2, label='CPU-SYS' )\n",
    "plt.plot(timestamps, iow, '--', linewidth=1, markersize=2, label='CPU-IOW' )\n",
    "legend = fig.legend(loc='upper left', shadow=False, fontsize='small')\n",
    "\n",
    "# Put a nicer background color on the legend.\n",
    "#legend.get_frame().set_facecolor('C0')\n",
    "plt.show()\n",
    "fig.savefig('sm.svg', width=1024, height=768)\n",
    "fig.savefig('sm.pdf', width=1024, height=768)"
   ]
  }
 ],
 "metadata": {
  "kernelspec": {
   "display_name": "Python 3",
   "language": "python",
   "name": "python3"
  },
  "language_info": {
   "codemirror_mode": {
    "name": "ipython",
    "version": 3
   },
   "file_extension": ".py",
   "mimetype": "text/x-python",
   "name": "python",
   "nbconvert_exporter": "python",
   "pygments_lexer": "ipython3",
   "version": "3.7.1"
  }
 },
 "nbformat": 4,
 "nbformat_minor": 2
}
